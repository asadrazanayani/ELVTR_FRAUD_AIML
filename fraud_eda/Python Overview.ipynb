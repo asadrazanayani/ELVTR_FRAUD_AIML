{
 "cells": [
  {
   "cell_type": "markdown",
   "id": "9c348a01",
   "metadata": {},
   "source": [
    "# Introduction to Python for Data Science\n",
    "\n",
    "Welcome to our introductory Jupyter Notebook on Python for Data Science! This notebook is designed to guide you through the basics of handling, manipulating, and visualizing data using Python. Our goal is to equip you with the essential skills needed to begin your data science journey.\n",
    "\n",
    "## Objective\n",
    "\n",
    "The primary objective of this notebook is to:\n",
    "- Introduce you to the fundamental programming concepts and techniques in Python that are crucial for data science.\n",
    "- Provide hands-on experience with data importation, manipulation, analysis, and visualization.\n",
    "- Prepare you to tackle more complex data science problems with confidence.\n",
    "\n",
    "## Tools and Libraries\n",
    "\n",
    "In this course, we will primarily use the following Python libraries:\n",
    "- **Pandas**: For data manipulation and analysis.\n",
    "- **NumPy**: For numerical operations.\n",
    "- **Matplotlib**: For creating static, interactive, and animated visualizations in Python.\n",
    "- **Seaborn**: For making attractive and informative statistical graphics.\n",
    "\n",
    "These libraries are part of the Python ecosystem for data science and provide robust solutions for data analysis and visualization.\n",
    "\n",
    "## Choosing a Development Environment\n",
    "\n",
    "While you are free to use any Python environment that suits your needs, we recommend considering the following options based on your familiarity with programming and the specifications of your computer:\n",
    "\n",
    "- **[Google Colab](https://colab.research.google.com/)**: A cloud-based Python notebook service that is excellent for beginners and those without access to powerful computers. Benefits include:\n",
    "  - **No Setup Required**: Runs in the cloud with no setup.\n",
    "  - **Free Access to GPUs**: Helps in processing large datasets faster.\n",
    "  - **Easy Sharing**: Facilitates collaboration with easy sharing features.\n",
    "  - **Integration with Google Drive**: Allows you to access your notebooks from anywhere.\n",
    "  - **Pre-installed Libraries**: Comes with most Python libraries needed for data science.\n",
    "\n",
    "- **[Jupyter Notebook](https://jupyter.org/install)**: Ideal for those who prefer running code locally. It integrates well within the Anaconda distribution and provides a robust environment for developing extensive coding projects.\n",
    "\n",
    "- **[PyCharm](https://www.jetbrains.com/pycharm/download/)**: A powerful IDE for professional developers who need advanced features such as code refactoring, debugging, and testing support.\n",
    "\n",
    "- **[Visual Studio Code (VS Code)](https://code.visualstudio.com/Download)**: Highly customizable and suitable for both beginners and advanced users. It supports a wide range of plugins and extensions for enhanced functionality.\n",
    "\n",
    "Each of these environments has its unique features and capabilities. Feel free to choose one that best fits your personal or project needs.\n",
    "\n",
    "Let's get started with Python for data science!\n"
   ]
  },
  {
   "cell_type": "code",
   "execution_count": 10,
   "id": "ce4756ac",
   "metadata": {},
   "outputs": [
    {
     "name": "stdout",
     "output_type": "stream",
     "text": [
      "Requirement already satisfied: pandas in /Users/asad/Desktop/python_env/venv/lib/python3.13/site-packages (2.2.3)\n",
      "Requirement already satisfied: numpy>=1.26.0 in /Users/asad/Desktop/python_env/venv/lib/python3.13/site-packages (from pandas) (2.2.5)\n",
      "Requirement already satisfied: python-dateutil>=2.8.2 in /Users/asad/Desktop/python_env/venv/lib/python3.13/site-packages (from pandas) (2.9.0.post0)\n",
      "Requirement already satisfied: pytz>=2020.1 in /Users/asad/Desktop/python_env/venv/lib/python3.13/site-packages (from pandas) (2025.2)\n",
      "Requirement already satisfied: tzdata>=2022.7 in /Users/asad/Desktop/python_env/venv/lib/python3.13/site-packages (from pandas) (2025.2)\n",
      "Requirement already satisfied: six>=1.5 in /Users/asad/Desktop/python_env/venv/lib/python3.13/site-packages (from python-dateutil>=2.8.2->pandas) (1.17.0)\n",
      "\n",
      "\u001b[1m[\u001b[0m\u001b[34;49mnotice\u001b[0m\u001b[1;39;49m]\u001b[0m\u001b[39;49m A new release of pip is available: \u001b[0m\u001b[31;49m25.0.1\u001b[0m\u001b[39;49m -> \u001b[0m\u001b[32;49m25.1.1\u001b[0m\n",
      "\u001b[1m[\u001b[0m\u001b[34;49mnotice\u001b[0m\u001b[1;39;49m]\u001b[0m\u001b[39;49m To update, run: \u001b[0m\u001b[32;49mpip install --upgrade pip\u001b[0m\n"
     ]
    }
   ],
   "source": [
    "!pip install pandas"
   ]
  },
  {
   "cell_type": "markdown",
   "id": "dde87b14",
   "metadata": {},
   "source": [
    "# Installing Python Libraries\n",
    "\n",
    "Python libraries are integral to data science, offering reusable code for tasks ranging from data manipulation to complex data visualization. To effectively use these libraries, you must first install them. This section will guide you through several methods to install Python libraries, with a focus on using Jupyter Notebooks as well as instructions for other environments.\n",
    "\n",
    "## Methods for Installing Libraries\n",
    "\n",
    "### 1. Using `!pip install` in Jupyter Notebooks\n",
    "\n",
    "Jupyter Notebook allows you to run shell commands directly from the notebook cells by prefixing the command with an exclamation point (`!`). This feature can be used to install Python libraries directly within your notebook.\n",
    "\n",
    "- **Example**: To install the Pandas library, you would use the following command in a Jupyter notebook cell:\n",
    "  ```python\n",
    "  !pip install pandas\n",
    "  ```"
   ]
  },
  {
   "cell_type": "markdown",
   "id": "0f646b07",
   "metadata": {},
   "source": [
    "### 2. Using pip in the Command Line\n",
    "\n",
    "For users working in environments other than Jupyter, such as PyCharm or Visual Studio Code, libraries can be installed using the command line or terminal.\n",
    "\n",
    "- **Open your Command Line Interface (CLI)**:\n",
    "  - On Windows, you can use Command Prompt or PowerShell.\n",
    "  - On macOS or Linux, open the Terminal.\n",
    "\n",
    "- **Install a Library**:\n",
    "  ```bash\n",
    "  pip install library-name\n",
    "  ```\n",
    "- Replace library-name with the name of the library you wish to install, such as numpy.  "
   ]
  },
  {
   "cell_type": "markdown",
   "id": "23240479",
   "metadata": {},
   "source": [
    "### 3. Using Anaconda Navigator (for Anaconda Users)\n",
    "\n",
    "If you are using the Anaconda distribution, you can manage libraries using Anaconda Navigator, a graphical user interface that allows you to manage conda packages, environments, and more.\n",
    "\n",
    "- **Open Anaconda Navigator**:\n",
    "  - Find Anaconda Navigator in your Start Menu (Windows) or Applications folder (macOS).\n",
    "\n",
    "- **Install a Library**:\n",
    "  - Navigate to the \"Environments\" tab.\n",
    "  - Select your environment or create a new one.\n",
    "  - Search for the library in the \"Packages\" search bar, select it, and click on \"Apply\" to install.\n"
   ]
  },
  {
   "cell_type": "markdown",
   "id": "897a66e8",
   "metadata": {},
   "source": [
    "### 4. Using Conda in the Command Line (for Anaconda Users)\n",
    "\n",
    "Conda is a package manager that comes with Anaconda. It can be used to install packages from the Anaconda repository, which often has pre-compiled packages for scientific computing.\n",
    "\n",
    "- **Install a Library**:\n",
    "  ```bash\n",
    "  conda install library-name\n",
    "  ```\n",
    "- This command installs the library using Conda, which may handle dependencies differently from pip. Replace `library-name` with the name of the library you wish to install, such as `scipy`.\n"
   ]
  },
  {
   "cell_type": "code",
   "execution_count": null,
   "id": "41fce0e5",
   "metadata": {},
   "outputs": [],
   "source": []
  },
  {
   "cell_type": "markdown",
   "id": "51e88f08",
   "metadata": {},
   "source": [
    "# Understanding and Using Python Libraries\n",
    "\n",
    "In data science, libraries are collections of pre-written code that you can use to perform common tasks, instead of writing your own code from scratch. Libraries can include a variety of tools, from data manipulation and calculation functions to visualization frameworks. Below, we'll cover some essential libraries used in Python for data science: Pandas, NumPy, Matplotlib, and Seaborn.\n",
    "\n",
    "## Essential Python Libraries for Data Science\n",
    "\n",
    "### Pandas\n",
    "- **Purpose**: Pandas is used for data manipulation and analysis. It provides data structures and operations for manipulating numerical tables and time series.\n",
    "- **Installation**:"
   ]
  },
  {
   "cell_type": "code",
   "execution_count": 11,
   "id": "b18dddd6",
   "metadata": {},
   "outputs": [],
   "source": [
    "#!pip install pandas"
   ]
  },
  {
   "cell_type": "code",
   "execution_count": 12,
   "id": "37996fd1",
   "metadata": {},
   "outputs": [
    {
     "name": "stdout",
     "output_type": "stream",
     "text": [
      "   age  ed  employ  address  income  debtinc   creddebt   othdebt  default\n",
      "0   41   3      17       12     176      9.3  11.359392  5.008608        1\n",
      "1   27   1      10        6      31     17.3   1.362202  4.000798        0\n",
      "2   40   1      15       14      55      5.5   0.856075  2.168925        0\n",
      "3   41   1      15       14     120      2.9   2.658720  0.821280        0\n",
      "4   24   2       2        0      28     17.3   1.787436  3.056564        1\n"
     ]
    }
   ],
   "source": [
    "#Pandas Library Example:\n",
    "import pandas as pd\n",
    "data = pd.read_csv('dataset.csv')  # Load a CSV file into a DataFrame\n",
    "print(data.head())  # Print the first five rows of the DataFrame"
   ]
  },
  {
   "cell_type": "code",
   "execution_count": 13,
   "id": "229f8d54",
   "metadata": {},
   "outputs": [
    {
     "data": {
      "text/html": [
       "<div>\n",
       "<style scoped>\n",
       "    .dataframe tbody tr th:only-of-type {\n",
       "        vertical-align: middle;\n",
       "    }\n",
       "\n",
       "    .dataframe tbody tr th {\n",
       "        vertical-align: top;\n",
       "    }\n",
       "\n",
       "    .dataframe thead th {\n",
       "        text-align: right;\n",
       "    }\n",
       "</style>\n",
       "<table border=\"1\" class=\"dataframe\">\n",
       "  <thead>\n",
       "    <tr style=\"text-align: right;\">\n",
       "      <th></th>\n",
       "      <th>mean_income</th>\n",
       "    </tr>\n",
       "    <tr>\n",
       "      <th>default</th>\n",
       "      <th></th>\n",
       "    </tr>\n",
       "  </thead>\n",
       "  <tbody>\n",
       "    <tr>\n",
       "      <th>0</th>\n",
       "      <td>8.679304</td>\n",
       "    </tr>\n",
       "    <tr>\n",
       "      <th>1</th>\n",
       "      <td>14.727869</td>\n",
       "    </tr>\n",
       "  </tbody>\n",
       "</table>\n",
       "</div>"
      ],
      "text/plain": [
       "         mean_income\n",
       "default             \n",
       "0           8.679304\n",
       "1          14.727869"
      ]
     },
     "execution_count": 13,
     "metadata": {},
     "output_type": "execute_result"
    }
   ],
   "source": [
    "data.groupby(['default']).agg(mean_income=pd.NamedAgg('debtinc','mean'))"
   ]
  },
  {
   "cell_type": "markdown",
   "id": "68f650b4",
   "metadata": {},
   "source": [
    "### NumPy\n",
    "- **Purpose**: NumPy is fundamental for scientific computing with Python. It supports large, multi-dimensional arrays and matrices, along with a large collection of high-level mathematical functions to operate on these arrays.\n",
    "- **Installation**:"
   ]
  },
  {
   "cell_type": "code",
   "execution_count": 14,
   "id": "0bce2c70",
   "metadata": {},
   "outputs": [
    {
     "name": "stdout",
     "output_type": "stream",
     "text": [
      "Requirement already satisfied: numpy in /Users/asad/Desktop/python_env/venv/lib/python3.13/site-packages (2.2.5)\n",
      "\n",
      "\u001b[1m[\u001b[0m\u001b[34;49mnotice\u001b[0m\u001b[1;39;49m]\u001b[0m\u001b[39;49m A new release of pip is available: \u001b[0m\u001b[31;49m25.0.1\u001b[0m\u001b[39;49m -> \u001b[0m\u001b[32;49m25.1.1\u001b[0m\n",
      "\u001b[1m[\u001b[0m\u001b[34;49mnotice\u001b[0m\u001b[1;39;49m]\u001b[0m\u001b[39;49m To update, run: \u001b[0m\u001b[32;49mpip install --upgrade pip\u001b[0m\n"
     ]
    }
   ],
   "source": [
    "!pip install numpy"
   ]
  },
  {
   "cell_type": "code",
   "execution_count": 15,
   "id": "514ec813",
   "metadata": {},
   "outputs": [
    {
     "name": "stdout",
     "output_type": "stream",
     "text": [
      "Average Income (in thousands of dollars): 45.60142857142857\n"
     ]
    }
   ],
   "source": [
    "#NumPy Library Example:\n",
    "import numpy as np\n",
    "# Convert a relevant column to a NumPy array\n",
    "income = np.array(data['income'])\n",
    "\n",
    "average_income = np.mean(income)\n",
    "print(\"Average Income (in thousands of dollars):\", average_income)\n"
   ]
  },
  {
   "cell_type": "markdown",
   "id": "951b801b",
   "metadata": {},
   "source": [
    "### Matplotlib\n",
    "- **Purpose**: Matplotlib is a plotting library for the Python programming language and its numerical mathematics extension NumPy. It provides an object-oriented API for embedding plots into applications.\n",
    "- **Installation**:"
   ]
  },
  {
   "cell_type": "code",
   "execution_count": 16,
   "id": "b78e4e6f",
   "metadata": {},
   "outputs": [],
   "source": [
    "#!pip install matplotlib"
   ]
  },
  {
   "cell_type": "code",
   "execution_count": 17,
   "id": "4052ac22",
   "metadata": {},
   "outputs": [
    {
     "data": {
      "image/png": "[encoded data removed]",
      "text/plain": [
       "<Figure size 1000x600 with 1 Axes>"
      ]
     },
     "metadata": {},
     "output_type": "display_data"
    }
   ],
   "source": [
    "#MatPlotLib Library Example:\n",
    "import matplotlib.pyplot as plt\n",
    "\n",
    "plt.figure(figsize=(10,6))\n",
    "plt.hist(data['income'], bins=30, color='blue', alpha=0.7)\n",
    "plt.title('Distribution of Income')\n",
    "plt.xlabel('Income')\n",
    "plt.ylabel('Frequency')\n",
    "plt.show()"
   ]
  },
  {
   "cell_type": "code",
   "execution_count": null,
   "id": "e0890234",
   "metadata": {},
   "outputs": [],
   "source": []
  },
  {
   "cell_type": "markdown",
   "id": "49af45b5",
   "metadata": {},
   "source": [
    "# Working with the Lending Club Dataset\n",
    "\n",
    "In this section of our notebook, we will introduce and utilize the Lending Club dataset. This dataset is widely used in risk analytics, specifically for modeling and predicting loan defaults. Understanding and predicting defaults is crucial for any financial institution as it directly impacts their decision-making process regarding loan approvals.\n",
    "\n",
    "## About the Lending Club Dataset\n",
    "\n",
    "The Lending Club dataset contains information about various loans issued along with details about the borrowers such as loan amount, interest rate, loan grade, employment history, and more. This rich dataset provides a comprehensive foundation for building predictive models that can estimate the likelihood of default based on various borrower and loan attributes.\n",
    "\n",
    "## Purpose of This Dataset in Our Course\n",
    "\n",
    "We will use this dataset as a practical case study to:\n",
    "- Demonstrate the process of loading data into a Python environment using Pandas.\n",
    "- Explore and manipulate the data to understand underlying patterns and structures.\n",
    "- Apply preprocessing techniques to prepare the dataset for modeling.\n",
    "- Develop a machine learning model to predict whether a loan will default, based on historical data.\n",
    "\n",
    "This hands-on experience will not only enhance your technical skills but also give you insights into how data science is applied in the financial sector to make informed decisions."
   ]
  },
  {
   "cell_type": "code",
   "execution_count": null,
   "id": "a7a1e1f4",
   "metadata": {},
   "outputs": [],
   "source": []
  },
  {
   "cell_type": "markdown",
   "id": "f0b9ecc3",
   "metadata": {},
   "source": [
    "# Getting Data into Your Python Environment\n",
    "\n",
    "Data acquisition is a critical first step in the data science workflow. We will review two common methods to get data into your Python environment: from a local file and from a web URL.\n",
    "\n",
    "## Loading Data from a Local File\n",
    "\n",
    "### Step 1: Place the File in Your Working Directory\n",
    "\n",
    "Before you can load the data, you need to ensure that the file (`dataset.xlsx`) is accessible from your Python environment. This typically means placing it in the current working directory where your Jupyter notebook is running or providing the path to where the file is stored."
   ]
  },
  {
   "cell_type": "code",
   "execution_count": 18,
   "id": "2de32321",
   "metadata": {},
   "outputs": [
    {
     "name": "stdout",
     "output_type": "stream",
     "text": [
      "/Users/asad/Desktop/python_env/elvtr\n"
     ]
    }
   ],
   "source": [
    "#You can check your current working directory using:\n",
    "import os\n",
    "print(os.getcwd())"
   ]
  },
  {
   "cell_type": "markdown",
   "id": "ab917a77",
   "metadata": {},
   "source": [
    "### Step 2: Load the File into a DataFrame\n",
    "Once the file is in the correct location, you can use Pandas to load it into a DataFrame:"
   ]
  },
  {
   "cell_type": "code",
   "execution_count": 19,
   "id": "4f1d99ec",
   "metadata": {},
   "outputs": [
    {
     "ename": "FileNotFoundError",
     "evalue": "[Errno 2] No such file or directory: 'dataset.xlsx'",
     "output_type": "error",
     "traceback": [
      "\u001b[31m---------------------------------------------------------------------------\u001b[39m",
      "\u001b[31mFileNotFoundError\u001b[39m                         Traceback (most recent call last)",
      "\u001b[36mCell\u001b[39m\u001b[36m \u001b[39m\u001b[32mIn[19]\u001b[39m\u001b[32m, line 2\u001b[39m\n\u001b[32m      1\u001b[39m \u001b[38;5;28;01mimport\u001b[39;00m\u001b[38;5;250m \u001b[39m\u001b[34;01mpandas\u001b[39;00m\u001b[38;5;250m \u001b[39m\u001b[38;5;28;01mas\u001b[39;00m\u001b[38;5;250m \u001b[39m\u001b[34;01mpd\u001b[39;00m\n\u001b[32m----> \u001b[39m\u001b[32m2\u001b[39m data = \u001b[43mpd\u001b[49m\u001b[43m.\u001b[49m\u001b[43mread_excel\u001b[49m\u001b[43m(\u001b[49m\u001b[33;43m'\u001b[39;49m\u001b[33;43mdataset.xlsx\u001b[39;49m\u001b[33;43m'\u001b[39;49m\u001b[43m)\u001b[49m\n\u001b[32m      3\u001b[39m \u001b[38;5;28mprint\u001b[39m(data.head())  \u001b[38;5;66;03m# Display the first few rows of the DataFrame to verify it's loaded correctly\u001b[39;00m\n",
      "\u001b[36mFile \u001b[39m\u001b[32m~/Desktop/python_env/venv/lib/python3.13/site-packages/pandas/io/excel/_base.py:495\u001b[39m, in \u001b[36mread_excel\u001b[39m\u001b[34m(io, sheet_name, header, names, index_col, usecols, dtype, engine, converters, true_values, false_values, skiprows, nrows, na_values, keep_default_na, na_filter, verbose, parse_dates, date_parser, date_format, thousands, decimal, comment, skipfooter, storage_options, dtype_backend, engine_kwargs)\u001b[39m\n\u001b[32m    493\u001b[39m \u001b[38;5;28;01mif\u001b[39;00m \u001b[38;5;129;01mnot\u001b[39;00m \u001b[38;5;28misinstance\u001b[39m(io, ExcelFile):\n\u001b[32m    494\u001b[39m     should_close = \u001b[38;5;28;01mTrue\u001b[39;00m\n\u001b[32m--> \u001b[39m\u001b[32m495\u001b[39m     io = \u001b[43mExcelFile\u001b[49m\u001b[43m(\u001b[49m\n\u001b[32m    496\u001b[39m \u001b[43m        \u001b[49m\u001b[43mio\u001b[49m\u001b[43m,\u001b[49m\n\u001b[32m    497\u001b[39m \u001b[43m        \u001b[49m\u001b[43mstorage_options\u001b[49m\u001b[43m=\u001b[49m\u001b[43mstorage_options\u001b[49m\u001b[43m,\u001b[49m\n\u001b[32m    498\u001b[39m \u001b[43m        \u001b[49m\u001b[43mengine\u001b[49m\u001b[43m=\u001b[49m\u001b[43mengine\u001b[49m\u001b[43m,\u001b[49m\n\u001b[32m    499\u001b[39m \u001b[43m        \u001b[49m\u001b[43mengine_kwargs\u001b[49m\u001b[43m=\u001b[49m\u001b[43mengine_kwargs\u001b[49m\u001b[43m,\u001b[49m\n\u001b[32m    500\u001b[39m \u001b[43m    \u001b[49m\u001b[43m)\u001b[49m\n\u001b[32m    501\u001b[39m \u001b[38;5;28;01melif\u001b[39;00m engine \u001b[38;5;129;01mand\u001b[39;00m engine != io.engine:\n\u001b[32m    502\u001b[39m     \u001b[38;5;28;01mraise\u001b[39;00m \u001b[38;5;167;01mValueError\u001b[39;00m(\n\u001b[32m    503\u001b[39m         \u001b[33m\"\u001b[39m\u001b[33mEngine should not be specified when passing \u001b[39m\u001b[33m\"\u001b[39m\n\u001b[32m    504\u001b[39m         \u001b[33m\"\u001b[39m\u001b[33man ExcelFile - ExcelFile already has the engine set\u001b[39m\u001b[33m\"\u001b[39m\n\u001b[32m    505\u001b[39m     )\n",
      "\u001b[36mFile \u001b[39m\u001b[32m~/Desktop/python_env/venv/lib/python3.13/site-packages/pandas/io/excel/_base.py:1550\u001b[39m, in \u001b[36mExcelFile.__init__\u001b[39m\u001b[34m(self, path_or_buffer, engine, storage_options, engine_kwargs)\u001b[39m\n\u001b[32m   1548\u001b[39m     ext = \u001b[33m\"\u001b[39m\u001b[33mxls\u001b[39m\u001b[33m\"\u001b[39m\n\u001b[32m   1549\u001b[39m \u001b[38;5;28;01melse\u001b[39;00m:\n\u001b[32m-> \u001b[39m\u001b[32m1550\u001b[39m     ext = \u001b[43minspect_excel_format\u001b[49m\u001b[43m(\u001b[49m\n\u001b[32m   1551\u001b[39m \u001b[43m        \u001b[49m\u001b[43mcontent_or_path\u001b[49m\u001b[43m=\u001b[49m\u001b[43mpath_or_buffer\u001b[49m\u001b[43m,\u001b[49m\u001b[43m \u001b[49m\u001b[43mstorage_options\u001b[49m\u001b[43m=\u001b[49m\u001b[43mstorage_options\u001b[49m\n\u001b[32m   1552\u001b[39m \u001b[43m    \u001b[49m\u001b[43m)\u001b[49m\n\u001b[32m   1553\u001b[39m     \u001b[38;5;28;01mif\u001b[39;00m ext \u001b[38;5;129;01mis\u001b[39;00m \u001b[38;5;28;01mNone\u001b[39;00m:\n\u001b[32m   1554\u001b[39m         \u001b[38;5;28;01mraise\u001b[39;00m \u001b[38;5;167;01mValueError\u001b[39;00m(\n\u001b[32m   1555\u001b[39m             \u001b[33m\"\u001b[39m\u001b[33mExcel file format cannot be determined, you must specify \u001b[39m\u001b[33m\"\u001b[39m\n\u001b[32m   1556\u001b[39m             \u001b[33m\"\u001b[39m\u001b[33man engine manually.\u001b[39m\u001b[33m\"\u001b[39m\n\u001b[32m   1557\u001b[39m         )\n",
      "\u001b[36mFile \u001b[39m\u001b[32m~/Desktop/python_env/venv/lib/python3.13/site-packages/pandas/io/excel/_base.py:1402\u001b[39m, in \u001b[36minspect_excel_format\u001b[39m\u001b[34m(content_or_path, storage_options)\u001b[39m\n\u001b[32m   1399\u001b[39m \u001b[38;5;28;01mif\u001b[39;00m \u001b[38;5;28misinstance\u001b[39m(content_or_path, \u001b[38;5;28mbytes\u001b[39m):\n\u001b[32m   1400\u001b[39m     content_or_path = BytesIO(content_or_path)\n\u001b[32m-> \u001b[39m\u001b[32m1402\u001b[39m \u001b[38;5;28;01mwith\u001b[39;00m \u001b[43mget_handle\u001b[49m\u001b[43m(\u001b[49m\n\u001b[32m   1403\u001b[39m \u001b[43m    \u001b[49m\u001b[43mcontent_or_path\u001b[49m\u001b[43m,\u001b[49m\u001b[43m \u001b[49m\u001b[33;43m\"\u001b[39;49m\u001b[33;43mrb\u001b[39;49m\u001b[33;43m\"\u001b[39;49m\u001b[43m,\u001b[49m\u001b[43m \u001b[49m\u001b[43mstorage_options\u001b[49m\u001b[43m=\u001b[49m\u001b[43mstorage_options\u001b[49m\u001b[43m,\u001b[49m\u001b[43m \u001b[49m\u001b[43mis_text\u001b[49m\u001b[43m=\u001b[49m\u001b[38;5;28;43;01mFalse\u001b[39;49;00m\n\u001b[32m   1404\u001b[39m \u001b[43m\u001b[49m\u001b[43m)\u001b[49m \u001b[38;5;28;01mas\u001b[39;00m handle:\n\u001b[32m   1405\u001b[39m     stream = handle.handle\n\u001b[32m   1406\u001b[39m     stream.seek(\u001b[32m0\u001b[39m)\n",
      "\u001b[36mFile \u001b[39m\u001b[32m~/Desktop/python_env/venv/lib/python3.13/site-packages/pandas/io/common.py:882\u001b[39m, in \u001b[36mget_handle\u001b[39m\u001b[34m(path_or_buf, mode, encoding, compression, memory_map, is_text, errors, storage_options)\u001b[39m\n\u001b[32m    873\u001b[39m         handle = \u001b[38;5;28mopen\u001b[39m(\n\u001b[32m    874\u001b[39m             handle,\n\u001b[32m    875\u001b[39m             ioargs.mode,\n\u001b[32m   (...)\u001b[39m\u001b[32m    878\u001b[39m             newline=\u001b[33m\"\u001b[39m\u001b[33m\"\u001b[39m,\n\u001b[32m    879\u001b[39m         )\n\u001b[32m    880\u001b[39m     \u001b[38;5;28;01melse\u001b[39;00m:\n\u001b[32m    881\u001b[39m         \u001b[38;5;66;03m# Binary mode\u001b[39;00m\n\u001b[32m--> \u001b[39m\u001b[32m882\u001b[39m         handle = \u001b[38;5;28;43mopen\u001b[39;49m\u001b[43m(\u001b[49m\u001b[43mhandle\u001b[49m\u001b[43m,\u001b[49m\u001b[43m \u001b[49m\u001b[43mioargs\u001b[49m\u001b[43m.\u001b[49m\u001b[43mmode\u001b[49m\u001b[43m)\u001b[49m\n\u001b[32m    883\u001b[39m     handles.append(handle)\n\u001b[32m    885\u001b[39m \u001b[38;5;66;03m# Convert BytesIO or file objects passed with an encoding\u001b[39;00m\n",
      "\u001b[31mFileNotFoundError\u001b[39m: [Errno 2] No such file or directory: 'dataset.xlsx'"
     ]
    }
   ],
   "source": [
    "import pandas as pd\n",
    "data = pd.read_excel('dataset.xlsx')\n",
    "print(data.head())  # Display the first few rows of the DataFrame to verify it's loaded correctly"
   ]
  },
  {
   "cell_type": "code",
   "execution_count": null,
   "id": "7145d3f9",
   "metadata": {},
   "outputs": [],
   "source": []
  },
  {
   "cell_type": "markdown",
   "id": "4c9e2681",
   "metadata": {},
   "source": [
    "Ensure that the file name matches exactly, including the extension.\n",
    "\n",
    "## Loading Data from a Web URL\n",
    "### Step 1: Identify the URL\n",
    "The URL must point directly to a downloadable data file, typically in formats such as CSV, JSON, or Excel. For our example, we'll use a sample CSV file hosted online.\n",
    "\n",
    "### Step 2: Load the Data into a DataFrame\n",
    "Pandas can directly load data from a URL, provided it is in the right format:"
   ]
  },
  {
   "cell_type": "code",
   "execution_count": null,
   "id": "610a4f8f",
   "metadata": {},
   "outputs": [],
   "source": [
    "import pandas as pd\n",
    "\n",
    "url = 'https://raw.githubusercontent.com/Gearhj/End-to-End-Data-Science/master/listings_clean.csv'\n",
    "\n",
    "url_data = pd.read_csv(url)\n",
    "print(url_data.head())  # Display the first few rows of the DataFrame to verify it's loaded correctly"
   ]
  },
  {
   "cell_type": "markdown",
   "id": "e9ff666a",
   "metadata": {},
   "source": [
    "This method is especially useful when dealing with frequently updated data, allowing you to get the most current data directly from the source.\n",
    "\n",
    "## Summary\n",
    "By mastering these two methods of data acquisition, you can flexibly choose the most suitable one depending on your data source. Whether working with static data provided in files or dynamic data available through APIs or direct URLs, knowing how to efficiently load this data into your Python environment is a foundational skill in data science."
   ]
  },
  {
   "cell_type": "code",
   "execution_count": null,
   "id": "b345fcff",
   "metadata": {},
   "outputs": [],
   "source": []
  },
  {
   "cell_type": "markdown",
   "id": "b1488ade",
   "metadata": {},
   "source": [
    "# Data Examination Techniques\n",
    "\n",
    "Once we have loaded our data into the Python environment, the next step is to perform an initial examination to better understand its structure and contents. Here, we'll cover some basic yet powerful Pandas DataFrame methods to examine our data.\n",
    "\n",
    "## Initial Data Inspection\n",
    "\n",
    "### Viewing the First Few Rows with `head`\n",
    "\n",
    "The `head()` method displays the first few rows of the DataFrame. This is useful for getting a quick snapshot of your data."
   ]
  },
  {
   "cell_type": "code",
   "execution_count": null,
   "id": "847afa16",
   "metadata": {},
   "outputs": [],
   "source": [
    "# Display the first 5 rows of the DataFrame\n",
    "print(data.head())"
   ]
  },
  {
   "cell_type": "markdown",
   "id": "fbf85965",
   "metadata": {},
   "source": [
    "### Viewing the Last Few Rows with tail\n",
    "Similarly, `tail()` shows you the last few rows of the DataFrame. This can be helpful to verify the data after sorting or adding rows."
   ]
  },
  {
   "cell_type": "code",
   "execution_count": null,
   "id": "553cf9c7",
   "metadata": {},
   "outputs": [],
   "source": [
    "# Display the last 5 rows of the DataFrame\n",
    "print(data.tail())"
   ]
  },
  {
   "cell_type": "markdown",
   "id": "04536979",
   "metadata": {},
   "source": [
    "### Understanding Data Types with dtypes\n",
    "Understanding the data types (`dtypes`) of each column is important because it can affect the type of analysis you can perform."
   ]
  },
  {
   "cell_type": "code",
   "execution_count": null,
   "id": "49919332",
   "metadata": {},
   "outputs": [],
   "source": [
    "# Check the data types of each column\n",
    "print(data.dtypes)"
   ]
  },
  {
   "cell_type": "markdown",
   "id": "1b3a2b6c",
   "metadata": {},
   "source": [
    "### Getting a Summary with describe\n",
    "The `describe()` method gives a summary of the statistics pertaining to the DataFrame columns. This includes count, mean, standard deviation, min, and max values."
   ]
  },
  {
   "cell_type": "code",
   "execution_count": null,
   "id": "badf43f8",
   "metadata": {},
   "outputs": [],
   "source": [
    "# Get a summary of the dataset\n",
    "print(data.describe())"
   ]
  },
  {
   "cell_type": "markdown",
   "id": "65427ccd",
   "metadata": {},
   "source": [
    "By using these methods, we can start forming an understanding of what our dataset contains, what kind of data types we are dealing with, and some basic statistical information about our numeric data. This initial inspection is crucial for determining the next steps in our data analysis and preprocessing workflow."
   ]
  },
  {
   "cell_type": "code",
   "execution_count": null,
   "id": "af70eee4",
   "metadata": {},
   "outputs": [],
   "source": []
  },
  {
   "cell_type": "markdown",
   "id": "45cf155b",
   "metadata": {},
   "source": [
    "# Data Manipulation Techniques\n",
    "\n",
    "This section of the notebook will guide you through data manipulation techniques including filtering and sorting data, creating new columns, handling missing data, and manipulating date and time data.\n",
    "\n",
    "## Filtering and Sorting Data\n",
    "\n",
    "**Filtering Data**:\n",
    "   Filter your DataFrame to only include records based on certain criteria.\n",
    "\n",
    "   Example: Filter to only include loans with income greater than $50,000"
   ]
  },
  {
   "cell_type": "code",
   "execution_count": null,
   "id": "10b33bc8",
   "metadata": {},
   "outputs": [],
   "source": [
    "filtered_data = data[data['income'] > 50] #Income is represented in thousands of dollars\n",
    "print(filtered_data.head())"
   ]
  },
  {
   "cell_type": "markdown",
   "id": "39c63dba",
   "metadata": {},
   "source": [
    "### Sorting Data:\n",
    "Sort your data by one or more columns."
   ]
  },
  {
   "cell_type": "code",
   "execution_count": null,
   "id": "31cabeed",
   "metadata": {},
   "outputs": [],
   "source": [
    "# Example: Sort the DataFrame by interest rate in descending order\n",
    "sorted_data = data.sort_values(by='age', ascending=False)\n",
    "print(sorted_data.head())"
   ]
  },
  {
   "cell_type": "code",
   "execution_count": null,
   "id": "05f1f95a",
   "metadata": {},
   "outputs": [],
   "source": []
  },
  {
   "cell_type": "markdown",
   "id": "d237d382",
   "metadata": {},
   "source": [
    "## Creating a New Column by Multiplying Variables\n",
    "\n",
    "Feature engineering can sometimes be as simple as combining existing variables to create a new feature that might have predictive power.\n",
    "\n",
    "### Example: Interaction Feature from 'income' and 'debtinc'\n",
    "\n",
    "Let's create a new column called 'income_debt_ratio' by multiplying the 'income' by 'debtinc' to see how a person's debt-to-income ratio scales with their income.\n"
   ]
  },
  {
   "cell_type": "code",
   "execution_count": null,
   "id": "ec5f36ac",
   "metadata": {},
   "outputs": [],
   "source": [
    "# Multiply 'income' and 'debtinc' to create a new column 'income_debt_ratio'\n",
    "data['income_debt_ratio'] = data['income'] * data['debtinc']\n",
    "\n",
    "# Display the first few rows to see the new 'income_debt_ratio' column\n",
    "print(data.head())"
   ]
  },
  {
   "cell_type": "code",
   "execution_count": null,
   "id": "1ce3cbd4",
   "metadata": {},
   "outputs": [],
   "source": []
  },
  {
   "cell_type": "markdown",
   "id": "fa4036c1",
   "metadata": {},
   "source": [
    "## Creating a New Column\n",
    "\n",
    "In data analysis, you often create new columns based on existing data.\n",
    "\n",
    "### Example: Debt-to-Income Ratio Category\n",
    "Let's categorize the 'debtinc' ratio into low, medium, and high categories."
   ]
  },
  {
   "cell_type": "code",
   "execution_count": null,
   "id": "757e66b1",
   "metadata": {},
   "outputs": [],
   "source": [
    "def categorize_debtinc(debtinc):\n",
    "    if debtinc < 10:\n",
    "        return 'Low'\n",
    "    elif 10 <= debtinc < 20:\n",
    "        return 'Medium'\n",
    "    else:\n",
    "        return 'High'\n",
    "\n",
    "data['debtinc_category'] = data['debtinc'].apply(categorize_debtinc)\n",
    "\n",
    "data.head()"
   ]
  },
  {
   "cell_type": "code",
   "execution_count": null,
   "id": "1391dee8",
   "metadata": {},
   "outputs": [],
   "source": []
  },
  {
   "cell_type": "markdown",
   "id": "d2898466",
   "metadata": {},
   "source": [
    "## Understanding and Handling Missing Data\n",
    "\n",
    "Missing data is a common occurrence in real-world datasets and represents the absence of data points in one or more recorded observations. This can occur for various reasons: data might not be collected properly, it might be corrupted, or the data entry could simply be overlooked. Handling missing data is crucial in data science as it can significantly impact the results of your analysis. Incorrect handling of missing data can lead to biased or inaccurate conclusions.\n",
    "\n",
    "### The Importance of Handling Missing Data\n",
    "\n",
    "- **Bias Reduction**: Proper handling can reduce bias in estimates and ensure a valid inference.\n",
    "- **Model Performance**: Machine learning models require complete datasets. Missing data handling can improve model accuracy and performance.\n",
    "- **Data Integrity**: It ensures the consistency and reliability of the dataset for analysis.\n",
    "\n",
    "### Our Approach to Missing Data\n",
    "\n",
    "Our dataset file `dataset.xlsx` currently has no missing values. To learn about missing data handling techniques, we will first artificially introduce some missing data and then apply different methods to handle it."
   ]
  },
  {
   "cell_type": "code",
   "execution_count": null,
   "id": "08a55701",
   "metadata": {},
   "outputs": [],
   "source": [
    "# Introducing Missing Data\n",
    "\n",
    "import numpy as np\n",
    "import pandas as pd\n",
    "\n",
    "# Load the dataset\n",
    "data = pd.read_excel('dataset.xlsx')\n",
    "\n",
    "# Set a random seed for reproducibility\n",
    "np.random.seed(0)\n",
    "\n",
    "# Choose a column to introduce missing values, e.g., 'income'\n",
    "missing_mask = np.random.rand(len(data)) < 0.05  # Approx 5% missing data\n",
    "\n",
    "# Introduce missing values\n",
    "data.loc[missing_mask, 'income'] = np.nan\n",
    "\n",
    "# Verify by checking the number of missing values in the column\n",
    "print(data['income'].isnull().sum())"
   ]
  },
  {
   "cell_type": "markdown",
   "id": "8644fadf",
   "metadata": {},
   "source": [
    "## Handling Missing Values\n",
    "\n",
    "Once we have introduced missing data, it's important to understand how to deal with it. There are several techniques for handling missing values, each with its own use case.\n",
    "\n",
    "### Removing Missing Values\n",
    "\n",
    "This is the simplest approach where you simply remove any row with missing data. It's quick and easy, but you lose data that could be important."
   ]
  },
  {
   "cell_type": "code",
   "execution_count": null,
   "id": "912b718d",
   "metadata": {},
   "outputs": [],
   "source": [
    "# Drop all rows with any missing values\n",
    "data_cleaned = data.dropna()\n",
    "\n",
    "# Verify the operation by counting missing values again\n",
    "print(\"Missing values before removal:\\n\", data.isnull().sum())\n",
    "print(\"Missing values after removal:\\n\", data_cleaned.isnull().sum())\n",
    "print(\"Data with missing values removed:\")\n",
    "print(data_cleaned.head())"
   ]
  },
  {
   "cell_type": "code",
   "execution_count": null,
   "id": "8a0ddb57",
   "metadata": {},
   "outputs": [],
   "source": []
  },
  {
   "cell_type": "markdown",
   "id": "93185d11",
   "metadata": {},
   "source": [
    "## Imputing Missing Values\n",
    "Imputation replaces missing values with substitute values, typically statistical estimates like the mean or median of the column."
   ]
  },
  {
   "cell_type": "markdown",
   "id": "91404ece",
   "metadata": {},
   "source": [
    "### Mean Imputation\n",
    "\n",
    "One common technique for handling missing values is mean imputation, where you fill in the missing data with the mean value of the entire column. This approach assumes that missing values are randomly distributed and can be reasonably estimated by the column's average.\n",
    "\n",
    "Before applying mean imputation, it's important to assess the impact by comparing the number of missing values before and after imputation, as well as checking the new mean value to ensure it's reasonable.\n",
    "\n",
    "Here's how we can apply mean imputation:"
   ]
  },
  {
   "cell_type": "code",
   "execution_count": null,
   "id": "7668cdaf",
   "metadata": {},
   "outputs": [],
   "source": [
    "# Calculate the mean of the 'income' column\n",
    "mean_income = data['income'].mean()\n",
    "\n",
    "# Display the mean value\n",
    "print(\"Mean Income:\", mean_income)\n",
    "\n",
    "print(\"Missing values before removal:\\n\", data.isnull().sum())\n",
    "\n",
    "# Replace missing values with the mean\n",
    "data['income'].fillna(mean_income, inplace=True)\n",
    "\n",
    "# Verify the operation by counting missing values again\n",
    "\n",
    "print(\"Missing values after removal:\\n\", data.isnull().sum())\n",
    "print(\"Data with missing values removed:\")\n",
    "print(data.head())\n",
    "\n",
    "# Verify the operation by displaying the updated data\n",
    "print(\"Data after mean imputation:\\n\", data[['income']].head())45"
   ]
  },
  {
   "cell_type": "markdown",
   "id": "4bb27428",
   "metadata": {},
   "source": [
    "### Median Imputation\n",
    "\n",
    "Median imputation is another method for handling missing data, especially useful when the data distribution is skewed. By using the median value, we ensure that our imputation is not affected by outliers or skewed data.\n",
    "\n",
    "Similar to mean imputation, we will compare the count of missing values before and after imputation to verify the changes.\n",
    "\n",
    "Here's the process for median imputation:"
   ]
  },
  {
   "cell_type": "code",
   "execution_count": null,
   "id": "9bbf5c58",
   "metadata": {},
   "outputs": [],
   "source": [
    "# Calculate the median of the 'income' column\n",
    "median_income = data['income'].median()\n",
    "\n",
    "# Display the median value\n",
    "print(\"Median Income:\", median_income)\n",
    "\n",
    "print(\"Missing values before removal:\\n\", data.isnull().sum())\n",
    "\n",
    "# Replace missing values with the median\n",
    "data['income'].fillna(median_income, inplace=True)\n",
    "\n",
    "# Verify the operation by counting missing values again\n",
    "\n",
    "print(\"Missing values after removal:\\n\", data.isnull().sum())\n",
    "print(\"Data with missing values removed:\")\n",
    "print(data.head())\n",
    "\n",
    "# Verify the operation by displaying the updated data\n",
    "print(\"Data after medain imputation:\\n\", data[['income']].head())"
   ]
  },
  {
   "cell_type": "markdown",
   "id": "605e3aaa",
   "metadata": {},
   "source": [
    "# Predictive Imputation\n",
    "\n",
    "Predictive imputation involves using statistical models to estimate missing values based on the relationships found in other, non-missing parts of your data. Unlike simpler methods such as mean or median imputation, predictive imputation can incorporate correlations between columns to make more informed guesses about the missing values. This technique is especially useful in datasets where data missingness is systematic and correlates with observable variables.\n",
    "\n",
    "## Why Use Predictive Imputation?\n",
    "\n",
    "- **Accuracy**: By leveraging patterns in the data, predictive imputation often results in more accurate estimates than mean or median imputation.\n",
    "- **Complex Relationships**: It can model complex relationships between features that simpler methods cannot.\n",
    "- **Data Retention**: It allows for the retention of valuable data points that might otherwise be discarded if rows with missing values were simply removed.\n",
    "\n",
    "Predictive imputation typically involves using machine learning algorithms such as linear regression, decision trees, or even more sophisticated methods like random forests and K-nearest neighbors, depending on the nature of the data and the missingness pattern.\n",
    "\n",
    "## Example of Predictive Imputation\n",
    "\n",
    "In the following example, we will use the K-nearest neighbors algorithm to impute missing values in the 'income' column, based on the most similar cases in the dataset."
   ]
  },
  {
   "cell_type": "code",
   "execution_count": null,
   "id": "4ba70d8d",
   "metadata": {},
   "outputs": [],
   "source": [
    "from sklearn.impute import KNNImputer\n",
    "\n",
    "# Create the imputer object with a specific number of neighbors\n",
    "imputer = KNNImputer(n_neighbors=5)\n",
    "\n",
    "# Apply imputation to the specific column(s)\n",
    "data[['income']] = imputer.fit_transform(data[['income']])\n",
    "\n",
    "# Display the data to verify the imputation\n",
    "print(data[['income']].head())"
   ]
  },
  {
   "cell_type": "code",
   "execution_count": null,
   "id": "fbfb7b34",
   "metadata": {},
   "outputs": [],
   "source": []
  },
  {
   "cell_type": "markdown",
   "id": "8f680711",
   "metadata": {},
   "source": [
    "# Understanding and Handling Outliers\n",
    "\n",
    "Outliers are data points that differ significantly from other observations. They can arise due to variability in measurement or experimental errors, and can be a common issue in real-world data. In predictive modeling, outliers can skew and mislead the training process of machine learning models resulting in longer training times, less accurate models, and ultimately poorer results.\n",
    "\n",
    "## Why are Outliers a Problem?\n",
    "\n",
    "- **Skewed Distribution**: Outliers can skew the data distribution, which can affect the assumption of many statistical models about the normality of the data.\n",
    "- **Impact on Mean and Standard Deviation**: Outliers can significantly influence the mean and standard deviation of the dataset, which are commonly used in data normalization.\n",
    "- **Effect on Model Accuracy**: They can particularly affect regression models by impacting the slope and intercept of the regression equation.\n",
    "\n",
    "## Detecting Outliers\n",
    "\n",
    "One common method of outlier detection is to use statistical tests like the Z-score or visually examine the data using box plots."
   ]
  },
  {
   "cell_type": "code",
   "execution_count": null,
   "id": "98c62823",
   "metadata": {},
   "outputs": [],
   "source": [
    "import seaborn as sns\n",
    "import matplotlib.pyplot as plt\n",
    "\n",
    "# Using a boxplot to visualize outliers in the 'income' column\n",
    "sns.boxplot(x=data['income'])\n",
    "plt.title('Boxplot for Income')\n",
    "plt.show()"
   ]
  },
  {
   "cell_type": "markdown",
   "id": "a3182386",
   "metadata": {},
   "source": [
    "## Handling Outliers\n",
    "Once detected, there are several methods to handle outliers. Two popular methods are Windsorization and applying the 1.5 IQR rule.\n",
    "\n",
    "### Windsorization\n",
    "Windsorization limits extreme values in the dataset to a specified percentile. It involves replacing the outliers with the nearest value at the percentile."
   ]
  },
  {
   "cell_type": "code",
   "execution_count": null,
   "id": "2eb0e3e2",
   "metadata": {},
   "outputs": [],
   "source": [
    "from scipy.stats.mstats import winsorize\n",
    "\n",
    "# Applying Windsorization to the 'income' column\n",
    "data['income_winsorized'] = winsorize(data['income'], limits=[0.05, 0.05])  # 5% from both ends\n",
    "\n",
    "# Comparing the original and winsorized data with box plots\n",
    "plt.figure(figsize=(12, 6))\n",
    "plt.subplot(121)\n",
    "sns.boxplot(data['income'], color='skyblue')\n",
    "plt.title('Original Income')\n",
    "\n",
    "plt.subplot(122)\n",
    "sns.boxplot(data['income_winsorized'], color='lightgreen')\n",
    "plt.title('Winsorized Income')\n",
    "plt.show()"
   ]
  },
  {
   "cell_type": "code",
   "execution_count": null,
   "id": "b3ff949c",
   "metadata": {},
   "outputs": [],
   "source": []
  },
  {
   "cell_type": "markdown",
   "id": "1655c1a6",
   "metadata": {},
   "source": [
    "## 1.5 IQR Rule\n",
    "This rule is commonly used to cap outliers by defining limits on the data values based on the Interquartile Range (IQR). Values outside 1.5 times the IQR from the Q1 and Q3 quartile are considered outliers and are capped."
   ]
  },
  {
   "cell_type": "code",
   "execution_count": null,
   "id": "c5c0449c",
   "metadata": {},
   "outputs": [],
   "source": [
    "# Calculating IQR\n",
    "Q1 = data['income'].quantile(0.25)\n",
    "Q3 = data['income'].quantile(0.75)\n",
    "IQR = Q3 - Q1\n",
    "\n",
    "# Defining outliers\n",
    "lower_bound = Q1 - 1.5 * IQR\n",
    "upper_bound = Q3 + 1.5 * IQR\n",
    "\n",
    "# Capping outliers\n",
    "data['income_capped'] = data['income'].clip(lower=lower_bound, upper=upper_bound)\n",
    "\n",
    "# Visualizing capped data\n",
    "plt.figure(figsize=(8, 4))\n",
    "sns.boxplot(data['income_capped'], color='orange')\n",
    "plt.title('Income with Outliers Capped by 1.5 IQR Rule')\n",
    "plt.show()"
   ]
  },
  {
   "cell_type": "code",
   "execution_count": null,
   "id": "9aa355ec",
   "metadata": {},
   "outputs": [],
   "source": []
  },
  {
   "cell_type": "markdown",
   "id": "99522772",
   "metadata": {},
   "source": [
    "# Understanding and Applying Data Scaling\n",
    "\n",
    "Data scaling is a critical preprocessing step in many data analysis and machine learning contexts, especially when dealing with features that vary in magnitudes, units, and range. Proper scaling standardizes the data to a specific range and can significantly improve the performance of learning algorithms, especially those that are sensitive to the variance in data, such as SVMs and k-nearest neighbors.\n",
    "\n",
    "## Why Scale Data?\n",
    "\n",
    "- **Uniformity**: Scaling ensures that each feature contributes equally to the analysis, preventing features with larger ranges from dominating the decision-making process of learning algorithms.\n",
    "- **Improved Learning**: Many algorithms converge faster when the data is scaled.\n",
    "- **Distance Metrics**: Algorithms that rely on distance calculations, like k-nearest neighbors, require scaled data to function correctly as they are sensitive to distances in high-dimensional space.\n",
    "\n",
    "## Common Scaling Techniques\n",
    "\n",
    "We will demonstrate two popular scaling techniques: Standard Scaling and Min-Max Scaling.\n",
    "\n",
    "### Standard Scaling\n",
    "\n",
    "Standard scaling (or Z-score normalization) scales features so they have the properties of a standard normal distribution with a mean of zero and a standard deviation of one."
   ]
  },
  {
   "cell_type": "code",
   "execution_count": null,
   "id": "1faca26d",
   "metadata": {},
   "outputs": [],
   "source": [
    "from sklearn.preprocessing import StandardScaler\n",
    "import seaborn as sns\n",
    "import matplotlib.pyplot as plt\n",
    "\n",
    "# Initialize the StandardScaler\n",
    "scaler = StandardScaler()\n",
    "\n",
    "# Fit and transform the 'income' data\n",
    "income_standard_scaled = scaler.fit_transform(data[['income']])\n",
    "\n",
    "# Visualize the original and scaled data\n",
    "plt.figure(figsize=(12, 6))\n",
    "plt.subplot(121)\n",
    "sns.histplot(data['income'], kde=True, color='blue')\n",
    "plt.title('Original Income')\n",
    "\n",
    "plt.subplot(122)\n",
    "sns.histplot(income_standard_scaled, kde=True, color='green')\n",
    "plt.title('Standard Scaled Income')\n",
    "plt.show()"
   ]
  },
  {
   "cell_type": "markdown",
   "id": "2054b4a4",
   "metadata": {},
   "source": [
    "### Min-Max Scaling\n",
    "Min-Max Scaling transforms features by scaling each feature to a given range, usually 0 to 1. This is achieved by subtracting the minimum value and dividing by the range of the data."
   ]
  },
  {
   "cell_type": "code",
   "execution_count": null,
   "id": "e13bb6ba",
   "metadata": {},
   "outputs": [],
   "source": [
    "from sklearn.preprocessing import MinMaxScaler\n",
    "\n",
    "# Initialize the MinMaxScaler\n",
    "minmax_scaler = MinMaxScaler()\n",
    "\n",
    "# Fit and transform the 'income' data\n",
    "income_minmax_scaled = minmax_scaler.fit_transform(data[['income']])\n",
    "\n",
    "# Visualize the original and scaled data\n",
    "plt.figure(figsize=(12, 6))\n",
    "plt.subplot(121)\n",
    "sns.histplot(data['income'], kde=True, color='blue')\n",
    "plt.title('Original Income')\n",
    "\n",
    "plt.subplot(122)\n",
    "sns.histplot(income_minmax_scaled, kde=True, color='red')\n",
    "plt.title('Min-Max Scaled Income')\n",
    "plt.show()"
   ]
  },
  {
   "cell_type": "code",
   "execution_count": null,
   "id": "f3fc858a",
   "metadata": {},
   "outputs": [],
   "source": []
  }
 ],
 "metadata": {
  "kernelspec": {
   "display_name": "venv",
   "language": "python",
   "name": "python3"
  },
  "language_info": {
   "codemirror_mode": {
    "name": "ipython",
    "version": 3
   },
   "file_extension": ".py",
   "mimetype": "text/x-python",
   "name": "python",
   "nbconvert_exporter": "python",
   "pygments_lexer": "ipython3",
   "version": "3.13.3"
  }
 },
 "nbformat": 4,
 "nbformat_minor": 5
}
